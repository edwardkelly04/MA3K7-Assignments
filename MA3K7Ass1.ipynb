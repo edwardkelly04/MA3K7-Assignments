{
 "cells": [
  {
   "cell_type": "code",
   "execution_count": 133,
   "id": "63bc1505",
   "metadata": {},
   "outputs": [],
   "source": [
    "pip install pandas\n",
    "\n",
    "#Import libaries\n",
    "import pandas as pd\n",
    "import numpy as np\n",
    "import random\n",
    "\n",
    "#Functions\n",
    "\n",
    "#Calculates the bracelet to n values\n",
    "def seq_mod(t1, t2, n):\n",
    "    seq = [t1, t2]\n",
    "    while len(seq) < n:\n",
    "        next_val = seq[-1] + seq[-2]\n",
    "        seq.append(next_val%10)\n",
    "    return seq\n",
    "\n",
    "#Finds the first common consequtive values (n->m)\n",
    "def con_pair(arr1, arr2):\n",
    "    for i in range(len(arr1) - 1):\n",
    "        pair1 = (arr1[i], arr1[i + 1])\n",
    "        \n",
    "        for j in range(len(arr2) - 1):\n",
    "            pair2 = (arr2[j], arr2[j + 1])\n",
    "            if pair1 == pair2:\n",
    "                return pair1  \n",
    "    return None  \n",
    "\n",
    "#Checks to see if 2 integers appear consequtively in an array\n",
    "def check_con(arr, num1, num2):\n",
    "    for i in range(len(arr) - 1):\n",
    "        if arr[i] == num1 and arr[i + 1] == num2:\n",
    "            return True  \n",
    "    return False  \n",
    "\n",
    "#Checks to see is (a,b) is a loop\n",
    "def loop_check(num1,num2):\n",
    "    arr1 = seq_mod(num1,num2,val_range)\n",
    "    copy = arr1[2:]\n",
    "    print(check_con(copy,arr1[0],arr1[1]))\n",
    "\n",
    "\n",
    "\n"
   ]
  },
  {
   "cell_type": "code",
   "execution_count": 117,
   "id": "8be42f6e",
   "metadata": {},
   "outputs": [
    {
     "name": "stdout",
     "output_type": "stream",
     "text": [
      "[1, 5, 6, 1, 7, 8, 5, 3, 8, 1, 9, 0, 9, 9, 8, 7, 5, 2, 7, 9, 6, 5, 1, 6, 7, 3, 0, 3, 3, 6, 9, 5, 4, 9, 3, 2, 5, 7, 2, 9, 1, 0, 1, 1, 2, 3, 5, 8, 3, 1, 4, 5, 9, 4, 3, 7, 0, 7, 7, 4, 1, 5, 6, 1, 7, 8, 5, 3, 8, 1, 9, 0, 9, 9, 8, 7, 5, 2, 7, 9, 6, 5, 1, 6, 7, 3, 0, 3, 3, 6, 9, 5, 4, 9, 3, 2, 5, 7, 2, 9]\n"
     ]
    }
   ],
   "source": [
    "#Prints example bracelet\n",
    "print(seq_mod(1,5,100))"
   ]
  },
  {
   "cell_type": "code",
   "execution_count": 118,
   "id": "19908120",
   "metadata": {},
   "outputs": [
    {
     "name": "stdout",
     "output_type": "stream",
     "text": [
      "(2, 2)\n"
     ]
    }
   ],
   "source": [
    "#For 2n,2n starter\n",
    "n_vals = [2,4,6,8]\n",
    "val_range = 30\n",
    "arr2n=[]\n",
    "for i in n_vals:\n",
    "    arr2n.append(seq_mod(i,i,val_range))\n",
    "    \n",
    "#Testing to find values to check\n",
    "print(con_pair(arr2n[0],arr2n[1]))"
   ]
  },
  {
   "cell_type": "code",
   "execution_count": 130,
   "id": "65b2d9cd",
   "metadata": {},
   "outputs": [
    {
     "name": "stdout",
     "output_type": "stream",
     "text": [
      "True\n",
      "\n",
      "True\n",
      "True\n",
      "True\n",
      "True\n"
     ]
    }
   ],
   "source": [
    "#Checking (2,2) is a loop\n",
    "loop_check(2,2)\n",
    "print()\n",
    "\n",
    "#Checking each 2n->2n bracelet contains 2->2\n",
    "i_values = [0,1,2,3]\n",
    "for i in i_values:\n",
    "        print(check_con(arr2n[i],2,2))"
   ]
  },
  {
   "cell_type": "code",
   "execution_count": 105,
   "id": "b6dab1d1",
   "metadata": {},
   "outputs": [
    {
     "name": "stdout",
     "output_type": "stream",
     "text": [
      "True\n",
      "True\n",
      "False\n",
      "True\n",
      "False\n",
      "True\n",
      "True\n",
      "True\n",
      "True\n",
      "True\n",
      "True\n",
      "False\n",
      "True\n",
      "False\n",
      "True\n",
      "True\n"
     ]
    }
   ],
   "source": [
    "#Checking if 2->2 appears in 2n->2m bracelets \n",
    "for i in n_vals:\n",
    "    for k in n_vals:\n",
    "        print(check_con(seq_mod(i,k,val_range),2,2))"
   ]
  },
  {
   "cell_type": "code",
   "execution_count": 106,
   "id": "0653c942",
   "metadata": {},
   "outputs": [
    {
     "name": "stdout",
     "output_type": "stream",
     "text": [
      "(2, 6)\n",
      "True\n",
      "True\n"
     ]
    }
   ],
   "source": [
    "#Finding and testing 2,6 for special cases \n",
    "print(con_pair(seq_mod(2,6,val_range),seq_mod(4,2,val_range)))\n",
    "print(check_con(seq_mod(6,8,val_range),2,6))\n",
    "print(check_con(seq_mod(8,4,val_range),2,6))"
   ]
  },
  {
   "cell_type": "code",
   "execution_count": 108,
   "id": "c78b88bb",
   "metadata": {},
   "outputs": [
    {
     "name": "stdout",
     "output_type": "stream",
     "text": [
      "(1, 1)\n"
     ]
    }
   ],
   "source": [
    "#For 2n+1, 2n+1 starter \n",
    "n_vals = [1,3,5,7,9]\n",
    "val_range = 200\n",
    "arr2np1 = []\n",
    "for i in n_vals:\n",
    "    arr2np1.append(seq_mod(i,i,val_range))\n",
    "\n",
    "\n",
    "#Testing to find values to check\n",
    "print(con_pair(arr2np1[0],arr2np1[1]))\n",
    "        "
   ]
  },
  {
   "cell_type": "code",
   "execution_count": 129,
   "id": "989971d7",
   "metadata": {},
   "outputs": [
    {
     "name": "stdout",
     "output_type": "stream",
     "text": [
      "True\n",
      "True\n",
      "False\n",
      "True\n",
      "True\n",
      "\n",
      "[5, 5, 0, 5, 5, 0, 5, 5, 0, 5, 5, 0, 5, 5, 0, 5, 5, 0, 5, 5, 0, 5, 5, 0, 5, 5, 0, 5, 5, 0, 5, 5, 0, 5, 5, 0, 5, 5, 0, 5, 5, 0, 5, 5, 0, 5, 5, 0, 5, 5, 0, 5, 5, 0, 5, 5, 0, 5, 5, 0, 5, 5, 0, 5, 5, 0, 5, 5, 0, 5, 5, 0, 5, 5, 0, 5, 5, 0, 5, 5, 0, 5, 5, 0, 5, 5, 0, 5, 5, 0, 5, 5, 0, 5, 5, 0, 5, 5, 0, 5, 5, 0, 5, 5, 0, 5, 5, 0, 5, 5, 0, 5, 5, 0, 5, 5, 0, 5, 5, 0, 5, 5, 0, 5, 5, 0, 5, 5, 0, 5, 5, 0, 5, 5, 0, 5, 5, 0, 5, 5, 0, 5, 5, 0, 5, 5, 0, 5, 5, 0, 5, 5, 0, 5, 5, 0, 5, 5, 0, 5, 5, 0, 5, 5, 0, 5, 5, 0, 5, 5, 0, 5, 5, 0, 5, 5, 0, 5, 5, 0, 5, 5, 0, 5, 5, 0, 5, 5, 0, 5, 5, 0, 5, 5, 0, 5, 5, 0, 5, 5]\n"
     ]
    }
   ],
   "source": [
    "#Testing 1,1\n",
    "for i in i_values:\n",
    "        print(check_con(arr2np1[i],1,1))\n",
    "        \n",
    "print()\n",
    "print(arr2np1[2])"
   ]
  },
  {
   "cell_type": "code",
   "execution_count": 110,
   "id": "c4fdf43f",
   "metadata": {},
   "outputs": [
    {
     "name": "stdout",
     "output_type": "stream",
     "text": [
      "True\n",
      "False\n",
      "True\n",
      "True\n",
      "True\n",
      "True\n",
      "True\n",
      "True\n",
      "True\n",
      "False\n",
      "True\n",
      "True\n",
      "False\n",
      "True\n",
      "True\n",
      "False\n",
      "True\n",
      "True\n",
      "True\n",
      "True\n",
      "True\n",
      "True\n",
      "True\n",
      "False\n",
      "True\n"
     ]
    }
   ],
   "source": [
    "#Checking if 1->1 appears in 2n+1->2m+1 bracelets \n",
    "for i in n_vals:\n",
    "    for k in n_vals:\n",
    "        print(check_con(seq_mod(i,k,val_range),1,1))"
   ]
  },
  {
   "cell_type": "code",
   "execution_count": 111,
   "id": "e269832b",
   "metadata": {},
   "outputs": [
    {
     "name": "stdout",
     "output_type": "stream",
     "text": [
      "(1, 3)\n",
      "True\n",
      "True\n"
     ]
    }
   ],
   "source": [
    "#Finding and testing 1,3 for special cases\n",
    "print(con_pair(seq_mod(1,3,val_range),seq_mod(3,9,val_range)))\n",
    "print(check_con(seq_mod(7,1,val_range),1,3))\n",
    "print(check_con(seq_mod(9,7,val_range),1,3))"
   ]
  },
  {
   "cell_type": "code",
   "execution_count": 128,
   "id": "03af533d",
   "metadata": {},
   "outputs": [
    {
     "name": "stdout",
     "output_type": "stream",
     "text": [
      "False\n",
      "False\n",
      "False\n",
      "False\n",
      "\n",
      "False\n",
      "False\n",
      "False\n",
      "False\n",
      "\n",
      "False\n",
      "False\n",
      "False\n",
      "False\n",
      "\n",
      "False\n",
      "False\n",
      "False\n",
      "False\n",
      "\n",
      "False\n",
      "False\n",
      "False\n",
      "False\n"
     ]
    }
   ],
   "source": [
    "#Checking Uniqueness of loops\n",
    "\n",
    "#Loop (2,2)\n",
    "loop22 = seq_mod(2,2,100)\n",
    "print(check_con(loop22, 2, 6))\n",
    "print(check_con(loop22, 1, 1))\n",
    "print(check_con(loop22, 5, 5))\n",
    "print(check_con(loop22, 1, 3))\n",
    "print()\n",
    "\n",
    "#Loop (2,6)\n",
    "loop26 = seq_mod(2,6,100)\n",
    "print(check_con(loop26, 2, 2))\n",
    "print(check_con(loop26, 1, 1))\n",
    "print(check_con(loop26, 5, 5))\n",
    "print(check_con(loop26, 1, 3))\n",
    "print()\n",
    "\n",
    "#Loop (1,1)\n",
    "loop11 = seq_mod(1,1,100)\n",
    "print(check_con(loop11, 2, 6))\n",
    "print(check_con(loop11, 2, 2))\n",
    "print(check_con(loop11, 5, 5))\n",
    "print(check_con(loop11, 1, 3))\n",
    "print()\n",
    "\n",
    "#Loop (5,5)\n",
    "loop55 = seq_mod(5,5,100)\n",
    "print(check_con(loop55, 2, 6))\n",
    "print(check_con(loop55, 1, 1))\n",
    "print(check_con(loop55, 2, 2))\n",
    "print(check_con(loop55, 1, 3))\n",
    "print()\n",
    "\n",
    "#Loop (1,3)\n",
    "loop13 = seq_mod(1,3,100)\n",
    "print(check_con(loop13, 2, 6))\n",
    "print(check_con(loop13, 1, 1))\n",
    "print(check_con(loop13, 5, 5))\n",
    "print(check_con(loop13, 2, 2))"
   ]
  },
  {
   "cell_type": "code",
   "execution_count": 120,
   "id": "bae5e93e",
   "metadata": {},
   "outputs": [
    {
     "name": "stdout",
     "output_type": "stream",
     "text": [
      "False\n",
      "False\n",
      "False\n",
      "False\n"
     ]
    }
   ],
   "source": [
    "#Testing that (1) doesn't terminate even special cases\n",
    "print(check_con(seq_mod(2,6,100),2,2))\n",
    "print(check_con(seq_mod(4,2,100),2,2))\n",
    "print(check_con(seq_mod(6,8,100),2,2))\n",
    "print(check_con(seq_mod(8,4,100),2,2))"
   ]
  },
  {
   "cell_type": "code",
   "execution_count": 121,
   "id": "bd31f05a",
   "metadata": {},
   "outputs": [
    {
     "name": "stdout",
     "output_type": "stream",
     "text": [
      "False\n",
      "False\n",
      "True\n",
      "False\n",
      "True\n",
      "False\n",
      "False\n",
      "False\n",
      "False\n",
      "False\n",
      "False\n",
      "True\n",
      "False\n",
      "True\n",
      "False\n",
      "False\n"
     ]
    }
   ],
   "source": [
    "#Checking General Case Even\n",
    "i_vals = [2,4,6,8]\n",
    "for i in i_vals:\n",
    "    for k in i_vals:\n",
    "        print(check_con(seq_mod(i,k,100),2,6))\n",
    "        "
   ]
  },
  {
   "cell_type": "code",
   "execution_count": 127,
   "id": "1b892b0e",
   "metadata": {},
   "outputs": [
    {
     "name": "stdout",
     "output_type": "stream",
     "text": [
      "False\n",
      "False\n",
      "False\n",
      "False\n",
      "False\n",
      "False\n",
      "False\n",
      "False\n",
      "\n",
      "False\n",
      "False\n"
     ]
    }
   ],
   "source": [
    "#Testing that (3) and (4) don't terminate odd special cases\n",
    "print(check_con(seq_mod(1,3,100),1,1))\n",
    "print(check_con(seq_mod(3,9,100),1,1))\n",
    "print(check_con(seq_mod(7,1,100),1,1))\n",
    "print(check_con(seq_mod(9,7,100),1,1))\n",
    "print(check_con(seq_mod(1,3,100),5,5))\n",
    "print(check_con(seq_mod(3,9,100),5,5))\n",
    "print(check_con(seq_mod(7,1,100),5,5))\n",
    "print(check_con(seq_mod(9,7,100),5,5))\n",
    "\n",
    "print()\n",
    "#Testing (3) and (5) for 5->5\n",
    "print(check_con(seq_mod(5,5,100),1,1))\n",
    "print(check_con(seq_mod(5,5,100),1,3))"
   ]
  },
  {
   "cell_type": "code",
   "execution_count": 126,
   "id": "5cdddde9",
   "metadata": {},
   "outputs": [
    {
     "name": "stdout",
     "output_type": "stream",
     "text": [
      "False\n",
      "True\n",
      "False\n",
      "False\n",
      "False\n",
      "False\n",
      "False\n",
      "False\n",
      "False\n",
      "True\n",
      "False\n",
      "False\n",
      "False\n",
      "False\n",
      "False\n",
      "True\n",
      "False\n",
      "False\n",
      "False\n",
      "False\n",
      "False\n",
      "False\n",
      "False\n",
      "True\n",
      "False\n",
      "\n",
      "False\n",
      "False\n",
      "False\n",
      "False\n",
      "False\n",
      "False\n",
      "False\n",
      "False\n",
      "False\n",
      "False\n",
      "False\n",
      "False\n",
      "True\n",
      "False\n",
      "False\n",
      "False\n",
      "False\n",
      "False\n",
      "False\n",
      "False\n",
      "False\n",
      "False\n",
      "False\n",
      "False\n",
      "False\n"
     ]
    }
   ],
   "source": [
    "i_vals = [1,3,5,7,9]\n",
    "for i in i_vals:\n",
    "    for k in i_vals:\n",
    "        print(check_con(seq_mod(i,k,100),1,3))\n",
    "\n",
    "print()\n",
    "        \n",
    "for i in i_vals:\n",
    "    for k in i_vals:\n",
    "        print(check_con(seq_mod(i,k,100),5,5))"
   ]
  },
  {
   "cell_type": "code",
   "execution_count": 149,
   "id": "1a8fda9c",
   "metadata": {},
   "outputs": [
    {
     "name": "stdout",
     "output_type": "stream",
     "text": [
      "1\n",
      "3\n",
      "5\n",
      "3\n",
      "3\n"
     ]
    }
   ],
   "source": [
    "#Result Testing Function\n",
    "\n",
    "def tester():\n",
    "    x=random.randint(0,9)\n",
    "    y=random.randint(0,9)\n",
    "    test_arr = seq_mod(x,y,100)\n",
    "    if check_con(test_arr,2,2):\n",
    "        print(1)\n",
    "   \n",
    "    if check_con(test_arr,2,6):\n",
    "        print(2)\n",
    "    \n",
    "    if check_con(test_arr,1,1):\n",
    "        print(3)\n",
    "    \n",
    "    if check_con(test_arr,5,5):\n",
    "        print(4)\n",
    "  \n",
    "    if check_con(test_arr,1,3):\n",
    "        print(5)\n",
    "\n",
    "    \n",
    "tester()\n",
    "tester()\n",
    "tester()\n",
    "tester()\n",
    "tester()"
   ]
  },
  {
   "cell_type": "code",
   "execution_count": 169,
   "id": "77e3a9e5",
   "metadata": {},
   "outputs": [
    {
     "name": "stdout",
     "output_type": "stream",
     "text": [
      "\u001b[92m1,1:loop(1, 1)\u001b[0m\n",
      " \u001b[92m1,2:loop(1, 1)\u001b[0m\n",
      " \u001b[95m1,3:loop(1, 3)\u001b[0m\n",
      " \u001b[92m1,4:loop(1, 1)\u001b[0m\n",
      " \u001b[92m1,5:loop(1, 1)\u001b[0m\n",
      " \u001b[92m1,6:loop(1, 1)\u001b[0m\n",
      " \u001b[92m1,7:loop(1, 1)\u001b[0m\n",
      " \u001b[95m1,8:loop(1, 3)\u001b[0m\n",
      " \u001b[92m1,9:loop(1, 1)\u001b[0m\n",
      " \n",
      "\u001b[95m2,1:loop(1, 3)\u001b[0m\n",
      " \u001b[91m2,2:loop(2, 2)\u001b[0m\n",
      " \u001b[92m2,3:loop(1, 1)\u001b[0m\n",
      " \u001b[91m2,4:loop(2, 2)\u001b[0m\n",
      " \u001b[92m2,5:loop(1, 1)\u001b[0m\n",
      " \u001b[94m2,6:loop(2, 6)\u001b[0m\n",
      " \u001b[92m2,7:loop(1, 1)\u001b[0m\n",
      " \u001b[91m2,8:loop(2, 2)\u001b[0m\n",
      " \u001b[92m2,9:loop(1, 1)\u001b[0m\n",
      " \n",
      "\u001b[92m3,1:loop(1, 1)\u001b[0m\n",
      " \u001b[92m3,2:loop(1, 1)\u001b[0m\n",
      " \u001b[92m3,3:loop(1, 1)\u001b[0m\n",
      " \u001b[95m3,4:loop(1, 3)\u001b[0m\n",
      " \u001b[92m3,5:loop(1, 1)\u001b[0m\n",
      " \u001b[92m3,6:loop(1, 1)\u001b[0m\n",
      " \u001b[92m3,7:loop(1, 1)\u001b[0m\n",
      " \u001b[92m3,8:loop(1, 1)\u001b[0m\n",
      " \u001b[95m3,9:loop(1, 3)\u001b[0m\n",
      " \n",
      "\u001b[92m4,1:loop(1, 1)\u001b[0m\n",
      " \u001b[94m4,2:loop(2, 6)\u001b[0m\n",
      " \u001b[92m4,3:loop(1, 1)\u001b[0m\n",
      " \u001b[91m4,4:loop(2, 2)\u001b[0m\n",
      " \u001b[92m4,5:loop(1, 1)\u001b[0m\n",
      " \u001b[91m4,6:loop(2, 2)\u001b[0m\n",
      " \u001b[95m4,7:loop(1, 3)\u001b[0m\n",
      " \u001b[91m4,8:loop(2, 2)\u001b[0m\n",
      " \u001b[92m4,9:loop(1, 1)\u001b[0m\n",
      " \n",
      "\u001b[92m5,1:loop(1, 1)\u001b[0m\n",
      " \u001b[92m5,2:loop(1, 1)\u001b[0m\n",
      " \u001b[92m5,3:loop(1, 1)\u001b[0m\n",
      " \u001b[92m5,4:loop(1, 1)\u001b[0m\n",
      " \u001b[93m5,5:loop(5, 5)\u001b[0m\n",
      " \u001b[92m5,6:loop(1, 1)\u001b[0m\n",
      " \u001b[92m5,7:loop(1, 1)\u001b[0m\n",
      " \u001b[92m5,8:loop(1, 1)\u001b[0m\n",
      " \u001b[92m5,9:loop(1, 1)\u001b[0m\n",
      " \n",
      "\u001b[92m6,1:loop(1, 1)\u001b[0m\n",
      " \u001b[91m6,2:loop(2, 2)\u001b[0m\n",
      " \u001b[95m6,3:loop(1, 3)\u001b[0m\n",
      " \u001b[91m6,4:loop(2, 2)\u001b[0m\n",
      " \u001b[92m6,5:loop(1, 1)\u001b[0m\n",
      " \u001b[91m6,6:loop(2, 2)\u001b[0m\n",
      " \u001b[92m6,7:loop(1, 1)\u001b[0m\n",
      " \u001b[94m6,8:loop(2, 6)\u001b[0m\n",
      " \u001b[92m6,9:loop(1, 1)\u001b[0m\n",
      " \n",
      "\u001b[95m7,1:loop(1, 3)\u001b[0m\n",
      " \u001b[92m7,2:loop(1, 1)\u001b[0m\n",
      " \u001b[92m7,3:loop(1, 1)\u001b[0m\n",
      " \u001b[92m7,4:loop(1, 1)\u001b[0m\n",
      " \u001b[92m7,5:loop(1, 1)\u001b[0m\n",
      " \u001b[95m7,6:loop(1, 3)\u001b[0m\n",
      " \u001b[92m7,7:loop(1, 1)\u001b[0m\n",
      " \u001b[92m7,8:loop(1, 1)\u001b[0m\n",
      " \u001b[92m7,9:loop(1, 1)\u001b[0m\n",
      " \n",
      "\u001b[92m8,1:loop(1, 1)\u001b[0m\n",
      " \u001b[91m8,2:loop(2, 2)\u001b[0m\n",
      " \u001b[92m8,3:loop(1, 1)\u001b[0m\n",
      " \u001b[94m8,4:loop(2, 6)\u001b[0m\n",
      " \u001b[92m8,5:loop(1, 1)\u001b[0m\n",
      " \u001b[91m8,6:loop(2, 2)\u001b[0m\n",
      " \u001b[92m8,7:loop(1, 1)\u001b[0m\n",
      " \u001b[91m8,8:loop(2, 2)\u001b[0m\n",
      " \u001b[95m8,9:loop(1, 3)\u001b[0m\n",
      " \n",
      "\u001b[92m9,1:loop(1, 1)\u001b[0m\n",
      " \u001b[95m9,2:loop(1, 3)\u001b[0m\n",
      " \u001b[92m9,3:loop(1, 1)\u001b[0m\n",
      " \u001b[92m9,4:loop(1, 1)\u001b[0m\n",
      " \u001b[92m9,5:loop(1, 1)\u001b[0m\n",
      " \u001b[92m9,6:loop(1, 1)\u001b[0m\n",
      " \u001b[95m9,7:loop(1, 3)\u001b[0m\n",
      " \u001b[92m9,8:loop(1, 1)\u001b[0m\n",
      " \u001b[92m9,9:loop(1, 1)\u001b[0m\n",
      " \n"
     ]
    }
   ],
   "source": [
    "#Calculates the bracelet (mod6) to n values\n",
    "def seq_mod6(t1, t2, n):\n",
    "    seq = [t1, t2]\n",
    "    while len(seq) < n:\n",
    "        next_val = seq[-1] + seq[-2]\n",
    "        seq.append(next_val%10)\n",
    "    return seq\n",
    "\n",
    "#New function to check arrays for each of the 5 loops\n",
    "def check_loops6(x,y):\n",
    "    arr = seq_mod6(x,y,100)\n",
    "    loops = [(2, 2), (2, 6), (1, 1), (5, 5), (1, 3)]\n",
    "    \n",
    "    #Define colors for each pair\n",
    "    colour_map = {\n",
    "        (2, 2): \"\\033[91m\",  #Red\n",
    "        (2, 6): \"\\033[94m\",  #Blue\n",
    "        (1, 1): \"\\033[92m\",  #Green\n",
    "        (5, 5): \"\\033[93m\",  #Yellow\n",
    "        (1, 3): \"\\033[95m\", #Magenta\n",
    "    }\n",
    "    \n",
    "    #Default colour for no pairs\n",
    "    default_colour = \"\\033[90m\"  #Gray\n",
    "    results = []\n",
    "    \n",
    "    #Loop through  pairs and check if in the array\n",
    "    for pair in pairs_to_check:\n",
    "        num1, num2 = pair\n",
    "        if check_con(arr, num1, num2):\n",
    "            colour = colour_map[pair]  \n",
    "            results.append(f\"{colour}{x},{y}:loop({num1}, {num2})\\033[0m\") \n",
    "    \n",
    "    #no pairs, use default colour\n",
    "    if not results:\n",
    "        results.append(f\"{default_colour}{x},{y}:No pairs found\\033[0m\")\n",
    "        \n",
    "    for result in results:\n",
    "        print(result)\n",
    "    \n",
    "\n",
    "    \n",
    "#Testing for all bracelets for mod6\n",
    "n_vals=[1,2,3,4,5,6,7,8,9]\n",
    "for i in n_vals:\n",
    "    for k in n_vals:\n",
    "        check_pairs_and_output(i,k)\n",
    "        print(\" \", end=\"\")\n",
    "    print()\n",
    "        \n",
    "        \n",
    "      \n",
    "    \n",
    "\n",
    "\n"
   ]
  },
  {
   "cell_type": "code",
   "execution_count": null,
   "id": "2024ac96",
   "metadata": {},
   "outputs": [],
   "source": []
  }
 ],
 "metadata": {
  "kernelspec": {
   "display_name": "Python 3 (ipykernel)",
   "language": "python",
   "name": "python3"
  },
  "language_info": {
   "codemirror_mode": {
    "name": "ipython",
    "version": 3
   },
   "file_extension": ".py",
   "mimetype": "text/x-python",
   "name": "python",
   "nbconvert_exporter": "python",
   "pygments_lexer": "ipython3",
   "version": "3.9.12"
  }
 },
 "nbformat": 4,
 "nbformat_minor": 5
}
